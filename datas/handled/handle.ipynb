{
 "cells": [
  {
   "cell_type": "code",
   "execution_count": 15,
   "metadata": {},
   "outputs": [],
   "source": [
    "import sqlparse\n",
    "import pymysql\n",
    "from typing import Dict, List, Any\n",
    "\n",
    "import sys\n",
    "\n",
    "sys.path.append(\"../..\")\n",
    "import com"
   ]
  },
  {
   "cell_type": "markdown",
   "metadata": {},
   "source": [
    "# 格式化 SQL 语句"
   ]
  },
  {
   "cell_type": "code",
   "execution_count": null,
   "metadata": {},
   "outputs": [],
   "source": [
    "# for path in com.get_paths(\"/root/autodl-tmp/Baichuan2-our/datas/handled/data1\"):\n",
    "#     data = com.load(path)\n",
    "#     query = data[\"conversations\"][0][\"answer\"]\n",
    "#     query = sqlparse.format(query, reindent=True, keyword_case=\"upper\")\n",
    "#     data[\"conversations\"][0][\"answer\"] = query\n",
    "\n",
    "#     com.dump(f\"{path}\".replace(\"data1\", \"data2\"), data)"
   ]
  },
  {
   "cell_type": "markdown",
   "metadata": {},
   "source": [
    "# 剔除错误 SQL 语句"
   ]
  },
  {
   "cell_type": "code",
   "execution_count": 16,
   "metadata": {},
   "outputs": [],
   "source": [
    "# for path in com.get_paths(\"/root/autodl-tmp/Baichuan2-our/datas/handled/data2\"):\n",
    "#     database = path.rsplit(\"/\")[-2]\n",
    "#     # 创建数据库连接\n",
    "#     connection = pymysql.connect(\n",
    "#         host=\"\",  # 数据库服务器地址\n",
    "#         user=\"\",  # 数据库用户名\n",
    "#         password=\"\",  # 数据库密码\n",
    "#         database=database,  # 要使用的数据库名称\n",
    "#         charset=\"utf8mb4\",  # 字符集\n",
    "#     )\n",
    "#     data = com.load(path)\n",
    "#     data: Dict[str, Any] = data[\"conversations\"][0]\n",
    "#     try:\n",
    "#         # 使用cursor()方法获取操作游标\n",
    "#         with connection.cursor() as cursor:\n",
    "#             cursor.execute(data[\"answer\"])  # 执行SQL语句\n",
    "#             assistant = 1\n",
    "#     except:\n",
    "#         assistant = -1\n",
    "\n",
    "#     if assistant == 1:\n",
    "#         com.dump(path.replace(\"data2\", \"data3\"), {\"conversations\": [data]})\n",
    "\n",
    "#     # 关闭数据库连接\n",
    "#     connection.close()"
   ]
  }
 ],
 "metadata": {
  "kernelspec": {
   "display_name": "base",
   "language": "python",
   "name": "python3"
  },
  "language_info": {
   "codemirror_mode": {
    "name": "ipython",
    "version": 3
   },
   "file_extension": ".py",
   "mimetype": "text/x-python",
   "name": "python",
   "nbconvert_exporter": "python",
   "pygments_lexer": "ipython3",
   "version": "3.10.13"
  }
 },
 "nbformat": 4,
 "nbformat_minor": 2
}
