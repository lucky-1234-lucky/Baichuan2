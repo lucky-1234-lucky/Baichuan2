{
 "cells": [
  {
   "cell_type": "code",
   "execution_count": null,
   "metadata": {},
   "outputs": [],
   "source": [
    "import pymysql\n",
    "from collections import defaultdict\n",
    "\n",
    "import com"
   ]
  },
  {
   "cell_type": "markdown",
   "metadata": {},
   "source": [
    "# 创建数据库"
   ]
  },
  {
   "cell_type": "code",
   "execution_count": null,
   "metadata": {},
   "outputs": [],
   "source": [
    "# # 创建数据库连接\n",
    "# db = pymysql.connect(\n",
    "#     host=\"\",  # 数据库服务器地址\n",
    "#     user=\"\",  # 数据库用户名\n",
    "#     password=\"\",  # 数据库密码\n",
    "#     charset=\"utf8mb4\",  # 字符集\n",
    "#     cursorclass=pymysql.cursors.DictCursor,\n",
    "# )  # 使用字典游标\n",
    "\n",
    "# paths = com.get_paths(\"/root/autodl-tmp/Baichuan2-our/datas/origin\")\n",
    "# for path in paths:\n",
    "#     path = path.rsplit(\"/\")[-1].rsplit(\"_\", 1)[0]\n",
    "#     try:\n",
    "#         with db.cursor() as cursor:\n",
    "#             # 创建数据库的SQL语句\n",
    "#             sql = f\"CREATE DATABASE IF NOT EXISTS {path}\"\n",
    "#             # 执行SQL语句\n",
    "#             cursor.execute(sql)\n",
    "\n",
    "#         # 提交事务\n",
    "#         db.commit()\n",
    "\n",
    "#         print(\"Database created successfully\")\n",
    "\n",
    "#     except Exception as e:\n",
    "#         # 如果发生错误则回滚\n",
    "#         db.rollback()\n",
    "#         print(\"Error while creating the database:\", e)\n",
    "        \n",
    "# db.close()"
   ]
  },
  {
   "cell_type": "markdown",
   "metadata": {},
   "source": [
    "# 创建表"
   ]
  },
  {
   "cell_type": "code",
   "execution_count": null,
   "metadata": {},
   "outputs": [],
   "source": [
    "# database_tables = defaultdict(set)\n",
    "# for path in com.get_paths(\"/root/autodl-tmp/Baichuan2-our/datas/origin\"):\n",
    "#     database = path.rsplit(\"/\")[-1].rsplit(\"_\", 1)[0]\n",
    "#     data = com.load(path)\n",
    "#     for sql in data[\"sql\"]:\n",
    "#         table_name = list(set(sql.keys()) - set([\"fileds\"]))[0]\n",
    "#         database_tables[database].add(sql[table_name])\n",
    "\n",
    "# for database, tables in database_tables.items():\n",
    "#     # 创建数据库连接\n",
    "#     db = pymysql.connect(\n",
    "#         host=\"\",  # 数据库服务器地址\n",
    "#         user=\"\",  # 数据库用户名\n",
    "#         password=\"\",  # 数据库密码\n",
    "#         database=database,  # 要使用的数据库名称\n",
    "#         charset=\"utf8mb4\",  # 字符集\n",
    "#         cursorclass=pymysql.cursors.DictCursor,\n",
    "#     )  # 使用字典游标\n",
    "#     for table in tables:\n",
    "#         try:\n",
    "#             with db.cursor() as cursor:\n",
    "#                 # 执行SQL语句\n",
    "#                 cursor.execute(table)\n",
    "#             # 提交事务\n",
    "#             db.commit()\n",
    "#             print(\"Table created successfully\")\n",
    "\n",
    "#         except Exception as e:\n",
    "#             # 如果发生错误则回滚\n",
    "#             # print(\"Error while creating table:\", e)\n",
    "#             pass\n",
    "\n",
    "#     # 关闭数据库连接\n",
    "#     db.close()"
   ]
  },
  {
   "cell_type": "markdown",
   "metadata": {},
   "source": [
    "# 添加数据"
   ]
  },
  {
   "cell_type": "code",
   "execution_count": null,
   "metadata": {},
   "outputs": [],
   "source": [
    "# for path in com.get_paths(\"/root/autodl-tmp/Baichuan2-our/datas/origin\"):\n",
    "#     database = path.rsplit(\"/\")[-1].rsplit(\"_\", 1)[0]\n",
    "#     # 创建数据库连接\n",
    "#     db = pymysql.connect(\n",
    "#         host=\"\",  # 数据库服务器地址\n",
    "#         user=\"\",  # 数据库用户名\n",
    "#         password=\"\",  # 数据库密码\n",
    "#         database=database,  # 要使用的数据库名称\n",
    "#         charset=\"utf8mb4\",  # 字符集\n",
    "#         cursorclass=pymysql.cursors.DictCursor,\n",
    "#     )  # 使用字典游标\n",
    "#     data = com.load(path)\n",
    "#     for insert in data[\"insert\"]:\n",
    "#         try:\n",
    "#             with db.cursor() as cursor:\n",
    "#                 cursor.execute(insert)\n",
    "\n",
    "#             # 提交事务\n",
    "#             db.commit()\n",
    "\n",
    "#             print(\"Data inserted successfully\")\n",
    "\n",
    "#         except Exception as e:\n",
    "#             print(\"Error while inserting data:\", e)\n",
    "\n",
    "#     # 关闭数据库连接\n",
    "#     db.close()"
   ]
  },
  {
   "cell_type": "markdown",
   "metadata": {},
   "source": [
    "# 将assistant和result的SQL语句通过MySQL数据库进行执行"
   ]
  },
  {
   "cell_type": "code",
   "execution_count": null,
   "metadata": {},
   "outputs": [],
   "source": [
    "# for path in com.get_paths(\"/root/autodl-tmp/Baichuan2-our/results/data3/devs\"):\n",
    "#     database = path.rsplit(\"/\")[-2]\n",
    "#     # 创建数据库连接\n",
    "#     connection = pymysql.connect(\n",
    "#         host=\"\",  # 数据库服务器地址\n",
    "#         user=\"\",  # 数据库用户名\n",
    "#         password=\"\",  # 数据库密码\n",
    "#         database=database,  # 要使用的数据库名称\n",
    "#         charset=\"utf8mb4\",  # 字符集\n",
    "#     )\n",
    "#     data = com.load(path)\n",
    "#     try:\n",
    "#         # 使用cursor()方法获取操作游标\n",
    "#         with connection.cursor() as cursor:\n",
    "#             # 编写SQL查询语句\n",
    "#             sql = data[\"conversations\"][-2][\"content\"]\n",
    "#             cursor.execute(sql)  # 执行SQL语句\n",
    "\n",
    "#             # 获取所有查询结果\n",
    "#             results = cursor.fetchall()\n",
    "#             assistant = len(results)\n",
    "#     except:\n",
    "#         assistant = -1\n",
    "\n",
    "#     try:\n",
    "#         # 使用cursor()方法获取操作游标\n",
    "#         with connection.cursor() as cursor:\n",
    "#             # 编写SQL查询语句\n",
    "#             sql = data[\"conversations\"][-1][\"content\"]\n",
    "#             cursor.execute(sql)  # 执行SQL语句\n",
    "\n",
    "#             # 获取所有查询结果\n",
    "#             results = cursor.fetchall()\n",
    "#             infer = len(results)\n",
    "#     except:\n",
    "#         infer = -1\n",
    "\n",
    "#     com.dump(\n",
    "#         path.replace(\"results\", \"results1\"),\n",
    "#         {\n",
    "#             \"conversations\": data[\"conversations\"]\n",
    "#             + [\n",
    "#                 {\"role\": \"exuc_assist\", \"content\": assistant},\n",
    "#                 {\"role\": \"exuc_infer\", \"content\": infer},\n",
    "#             ]\n",
    "#         },\n",
    "#     )\n",
    "\n",
    "#     # 关闭数据库连接\n",
    "#     connection.close()"
   ]
  },
  {
   "cell_type": "markdown",
   "metadata": {},
   "source": [
    "# 评估"
   ]
  },
  {
   "cell_type": "code",
   "execution_count": null,
   "metadata": {},
   "outputs": [],
   "source": [
    "# assistant_right, assistant = 0, 0\n",
    "# infer_right, infer = 0, 0\n",
    "\n",
    "# for path in com.get_paths(\"/root/autodl-tmp/Baichuan2-our/results1/data3/devs\"):\n",
    "#     data = com.load(path)\n",
    "#     data_ = data[\"conversations\"]\n",
    "#     # assistant\n",
    "#     if data_[-2][\"content\"] != -1:\n",
    "#         assistant_right += 1\n",
    "\n",
    "#     assistant += 1\n",
    "\n",
    "#     # infer\n",
    "#     if data_[-1][\"content\"] != -1:\n",
    "#         infer_right += 1\n",
    "#     infer += 1\n",
    "\n",
    "# print(\n",
    "#     f\"assistant_right: {assistant_right}, assistant: {assistant}, acc: {assistant_right/assistant}\"\n",
    "# )\n",
    "# print(f\"infer_right: {infer_right}, infer: {infer}, acc: {infer_right/infer}\")"
   ]
  }
 ],
 "metadata": {
  "kernelspec": {
   "display_name": "base",
   "language": "python",
   "name": "python3"
  },
  "language_info": {
   "codemirror_mode": {
    "name": "ipython",
    "version": 3
   },
   "file_extension": ".py",
   "mimetype": "text/x-python",
   "name": "python",
   "nbconvert_exporter": "python",
   "pygments_lexer": "ipython3",
   "version": "3.10.13"
  }
 },
 "nbformat": 4,
 "nbformat_minor": 2
}
